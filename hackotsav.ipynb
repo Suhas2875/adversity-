{
  "nbformat": 4,
  "nbformat_minor": 0,
  "metadata": {
    "colab": {
      "provenance": [],
      "toc_visible": true
    },
    "kernelspec": {
      "name": "python3",
      "display_name": "Python 3"
    },
    "language_info": {
      "name": "python"
    }
  },
  "cells": [
    {
      "cell_type": "code",
      "execution_count": null,
      "metadata": {
        "id": "ldl94U0yYdJ4"
      },
      "outputs": [],
      "source": [
        "def generate_path_waypoints(start, goal, checkpoints):\n",
        "    def get_waypoints(p1, p2):\n",
        "        waypoints = []\n",
        "        x1, y1 = p1\n",
        "        x2, y2 = p2\n",
        "        for i in range(1, 5):\n",
        "            x = x1 + i * (x2 - x1) / 5\n",
        "            y = y1 + i * (y2 - y1) / 5\n",
        "            waypoints.append((round(x, 6), round(y, 6)))\n",
        "        return waypoints\n",
        "\n",
        "    path = [start] + checkpoints + [goal]\n",
        "    all_waypoints = []\n",
        "\n",
        "    for i in range(len(path) - 1):\n",
        "        all_waypoints.extend(get_waypoints(path[i], path[i + 1]))\n",
        "\n",
        "    return all_waypoints\n"
      ]
    },
    {
      "cell_type": "code",
      "source": [
        "print(generate_path_waypoints((1.0, 1.0), (6.0, 6.0), [(3.5, 3.5)]))\n",
        "\n",
        "print(generate_path_waypoints((2.0, 5.0), (8.0, 2.0), [(4.0, 4.0), (6.0, 3.0)]))\n"
      ],
      "metadata": {
        "colab": {
          "base_uri": "https://localhost:8080/"
        },
        "id": "FMnJZv4RYgb_",
        "outputId": "5f4110e9-b5b0-4219-aa88-3f4806401916"
      },
      "execution_count": null,
      "outputs": [
        {
          "output_type": "stream",
          "name": "stdout",
          "text": [
            "[(1.5, 1.5), (2.0, 2.0), (2.5, 2.5), (3.0, 3.0), (4.0, 4.0), (4.5, 4.5), (5.0, 5.0), (5.5, 5.5)]\n",
            "[(2.4, 4.8), (2.8, 4.6), (3.2, 4.4), (3.6, 4.2), (4.4, 3.8), (4.8, 3.6), (5.2, 3.4), (5.6, 3.2), (6.4, 2.8), (6.8, 2.6), (7.2, 2.4), (7.6, 2.2)]\n"
          ]
        }
      ]
    },
    {
      "cell_type": "code",
      "source": [
        "start = (-1.0, 2.0)\n",
        "goal = (3.0, -2.0)\n",
        "checkpoints = [(1.0, 0.0)]\n",
        "\n",
        "print(generate_path_waypoints(start, goal, checkpoints))\n"
      ],
      "metadata": {
        "colab": {
          "base_uri": "https://localhost:8080/"
        },
        "id": "3WwnzqAAZJKI",
        "outputId": "ec23a870-2513-4027-f9ce-3309e80ca96a"
      },
      "execution_count": null,
      "outputs": [
        {
          "output_type": "stream",
          "name": "stdout",
          "text": [
            "[(-0.6, 1.6), (-0.2, 1.2), (0.2, 0.8), (0.6, 0.4), (1.4, -0.4), (1.8, -0.8), (2.2, -1.2), (2.6, -1.6)]\n"
          ]
        }
      ]
    },
    {
      "cell_type": "code",
      "source": [
        "start = (0.0, 0.0)\n",
        "goal = (5.0, 10.0)\n",
        "checkpoints = []\n",
        "\n",
        "print(generate_path_waypoints(start, goal, checkpoints))\n"
      ],
      "metadata": {
        "colab": {
          "base_uri": "https://localhost:8080/"
        },
        "id": "NbKWKaLSZaXQ",
        "outputId": "e0640142-4e80-4343-ec98-178363f86d1a"
      },
      "execution_count": null,
      "outputs": [
        {
          "output_type": "stream",
          "name": "stdout",
          "text": [
            "[(1.0, 2.0), (2.0, 4.0), (3.0, 6.0), (4.0, 8.0)]\n"
          ]
        }
      ]
    }
  ]
}